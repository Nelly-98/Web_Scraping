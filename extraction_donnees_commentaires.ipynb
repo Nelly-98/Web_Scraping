{
 "cells": [
  {
   "cell_type": "code",
   "execution_count": 2,
   "metadata": {},
   "outputs": [],
   "source": [
    "import requests\n",
    "from bs4 import BeautifulSoup\n",
    "import pandas as pd\n",
    "import re "
   ]
  },
  {
   "cell_type": "code",
   "execution_count": 3,
   "metadata": {},
   "outputs": [
    {
     "data": {
      "text/plain": [
       "<Response [200]>"
      ]
     },
     "execution_count": 3,
     "metadata": {},
     "output_type": "execute_result"
    }
   ],
   "source": [
    "# Envoyer une requête HTTP GET à la page web\n",
    "url = \"",
    "response = requests.get(url)\n",
    "response"
   ]
  },
  {
   "cell_type": "code",
   "execution_count": 4,
   "metadata": {},
   "outputs": [],
   "source": [
    "# Liste pour stocker les données des commentaires\n",
    "authors=[]\n",
    "dates=[]\n",
    "comments_text=[]\n",
    "response=[]\n",
    "pages=[a for a in range(1,34)] \n",
    "# Boucle pour parcourir toutes les pages\n",
    "for i in pages :\n",
    "    #Récupérer le contenu HTML de la page\n",
    "    response = requests.get(f\"",
    "    soup = BeautifulSoup(response.content, \"html.parser\")\n",
    "#commentaires_page = soup.find_all(\"ul\", class_=\"comment-list\")\n",
    "    comments=soup.findAll(\"article\",id=re.compile(\"^comment-\"))\n",
    "#authors_=\n",
    "    for i in comments:\n",
    "        authors.append(i.find('div',class_=\"comment-author\").text.strip())\n",
    "        dates.append(i.find(\"time\", class_=\"comment-meta-item comment-meta-item-date\").text.strip())\n",
    "        comments_text.append(i.find(\"div\",class_=\"comment-content post-content\").text.strip())"
   ]
  },
  {
   "cell_type": "code",
   "execution_count": 5,
   "metadata": {},
   "outputs": [],
   "source": [
    "data_long=pd.DataFrame({'auteurs':authors,'dates':dates,'commentaires':comments_text})"
   ]
  },
  {
   "cell_type": "code",
   "execution_count": 6,
   "metadata": {},
   "outputs": [
    {
     "data": {
      "text/plain": [
       "(2970, 3)"
      ]
     },
     "execution_count": 6,
     "metadata": {},
     "output_type": "execute_result"
    }
   ],
   "source": [
    "data_long.shape"
   ]
  },
  {
   "cell_type": "code",
   "execution_count": 7,
   "metadata": {},
   "outputs": [
    {
     "data": {
      "text/html": [
       "<div>\n",
       "<style scoped>\n",
       "    .dataframe tbody tr th:only-of-type {\n",
       "        vertical-align: middle;\n",
       "    }\n",
       "\n",
       "    .dataframe tbody tr th {\n",
       "        vertical-align: top;\n",
       "    }\n",
       "\n",
       "    .dataframe thead th {\n",
       "        text-align: right;\n",
       "    }\n",
       "</style>\n",
       "<table border=\"1\" class=\"dataframe\">\n",
       "  <thead>\n",
       "    <tr style=\"text-align: right;\">\n",
       "      <th></th>\n",
       "      <th>auteurs</th>\n",
       "      <th>dates</th>\n",
       "      <th>commentaires</th>\n",
       "    </tr>\n",
       "  </thead>\n",
       "  <tbody>\n",
       "    <tr>\n",
       "      <th>0</th>\n",
       "      <td>wiwi</td>\n",
       "      <td>6 avril 2022 à 14h50</td>\n",
       "      <td>Impossible de recevoir  la notification donc i...</td>\n",
       "    </tr>\n",
       "    <tr>\n",
       "      <th>1</th>\n",
       "      <td>MCH</td>\n",
       "      <td>5 avril 2022 à 22h57</td>\n",
       "      <td>Pas de réception de la notification, puis mess...</td>\n",
       "    </tr>\n",
       "    <tr>\n",
       "      <th>2</th>\n",
       "      <td>Sahakian</td>\n",
       "      <td>5 avril 2022 à 21h48</td>\n",
       "      <td>Bonjour\\nJe n arrive pas a ajoute mon téléphon...</td>\n",
       "    </tr>\n",
       "    <tr>\n",
       "      <th>3</th>\n",
       "      <td>Bf</td>\n",
       "      <td>5 avril 2022 à 16h25</td>\n",
       "      <td>Message erreur même après changement de code. ...</td>\n",
       "    </tr>\n",
       "    <tr>\n",
       "      <th>4</th>\n",
       "      <td>Le A</td>\n",
       "      <td>5 avril 2022 à 07h01</td>\n",
       "      <td>Je ne reçois pas la notification sur mon télép...</td>\n",
       "    </tr>\n",
       "    <tr>\n",
       "      <th>...</th>\n",
       "      <td>...</td>\n",
       "      <td>...</td>\n",
       "      <td>...</td>\n",
       "    </tr>\n",
       "    <tr>\n",
       "      <th>2965</th>\n",
       "      <td>Usager usé</td>\n",
       "      <td>3 février 2022 à 16h26</td>\n",
       "      <td>Site en maintenance depuis plusieurs jours, au...</td>\n",
       "    </tr>\n",
       "    <tr>\n",
       "      <th>2966</th>\n",
       "      <td>1643871579203</td>\n",
       "      <td>3 février 2022 à 07h59</td>\n",
       "      <td>Site en maintenance depuis plusieurs jours, au...</td>\n",
       "    </tr>\n",
       "    <tr>\n",
       "      <th>2967</th>\n",
       "      <td>Vic</td>\n",
       "      <td>2 février 2022 à 11h09</td>\n",
       "      <td>L’application nécessite une mise à jour mais i...</td>\n",
       "    </tr>\n",
       "    <tr>\n",
       "      <th>2968</th>\n",
       "      <td>Cha</td>\n",
       "      <td>1 février 2022 à 23h46</td>\n",
       "      <td>Le site est en « maintenance » quand j’essaye ...</td>\n",
       "    </tr>\n",
       "    <tr>\n",
       "      <th>2969</th>\n",
       "      <td>soss</td>\n",
       "      <td>30 janvier 2022 à 22h38</td>\n",
       "      <td>site en maintenance\\n\\nRépondre \\nSignaler</td>\n",
       "    </tr>\n",
       "  </tbody>\n",
       "</table>\n",
       "<p>2970 rows × 3 columns</p>\n",
       "</div>"
      ],
      "text/plain": [
       "            auteurs                    dates   \n",
       "0              wiwi     6 avril 2022 à 14h50  \\\n",
       "1               MCH     5 avril 2022 à 22h57   \n",
       "2          Sahakian     5 avril 2022 à 21h48   \n",
       "3                Bf     5 avril 2022 à 16h25   \n",
       "4              Le A     5 avril 2022 à 07h01   \n",
       "...             ...                      ...   \n",
       "2965     Usager usé   3 février 2022 à 16h26   \n",
       "2966  1643871579203   3 février 2022 à 07h59   \n",
       "2967            Vic   2 février 2022 à 11h09   \n",
       "2968            Cha   1 février 2022 à 23h46   \n",
       "2969           soss  30 janvier 2022 à 22h38   \n",
       "\n",
       "                                           commentaires  \n",
       "0     Impossible de recevoir  la notification donc i...  \n",
       "1     Pas de réception de la notification, puis mess...  \n",
       "2     Bonjour\\nJe n arrive pas a ajoute mon téléphon...  \n",
       "3     Message erreur même après changement de code. ...  \n",
       "4     Je ne reçois pas la notification sur mon télép...  \n",
       "...                                                 ...  \n",
       "2965  Site en maintenance depuis plusieurs jours, au...  \n",
       "2966  Site en maintenance depuis plusieurs jours, au...  \n",
       "2967  L’application nécessite une mise à jour mais i...  \n",
       "2968  Le site est en « maintenance » quand j’essaye ...  \n",
       "2969         site en maintenance\\n\\nRépondre \\nSignaler  \n",
       "\n",
       "[2970 rows x 3 columns]"
      ]
     },
     "execution_count": 7,
     "metadata": {},
     "output_type": "execute_result"
    }
   ],
   "source": [
    "data_long"
   ]
  }
 ],
 "metadata": {
  "kernelspec": {
   "display_name": ".venv",
   "language": "python",
   "name": "python3"
  },
  "language_info": {
   "codemirror_mode": {
    "name": "ipython",
    "version": 3
   },
   "file_extension": ".py",
   "mimetype": "text/x-python",
   "name": "python",
   "nbconvert_exporter": "python",
   "pygments_lexer": "ipython3",
   "version": "3.10.6"
  },
  "orig_nbformat": 4
 },
 "nbformat": 4,
 "nbformat_minor": 2
}
